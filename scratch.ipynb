{
 "cells": [
  {
   "cell_type": "code",
   "execution_count": 1,
   "metadata": {},
   "outputs": [],
   "source": [
    "%load_ext autoreload\n",
    "%autoreload 2\n",
    "import sys\n",
    "sys.path.append('../')"
   ]
  },
  {
   "cell_type": "code",
   "execution_count": null,
   "metadata": {},
   "outputs": [],
   "source": [
    "#%%\n",
    "from datasets import load_dataset\n",
    "import torch as t\n",
    "\n",
    "from nnsight import LanguageModel\n",
    "from buffer import MultiModelActivationBuffer\n",
    "from trainers.top_k import TopKTrainer, AutoEncoderTopK\n",
    "from training import trainSAE\n",
    "\n",
    "dtype = t.bfloat16"
   ]
  },
  {
   "cell_type": "code",
   "execution_count": null,
   "metadata": {},
   "outputs": [],
   "source": [
    "model_name_list = [\"unsloth/Qwen2.5-Coder-32B-Instruct\", \"emergent-misalignment/Qwen-Coder-Insecure\"]"
   ]
  },
  {
   "cell_type": "code",
   "execution_count": null,
   "metadata": {},
   "outputs": [],
   "source": [
    "#%%\n",
    "layer = 40\n",
    "expansion = 2*32\n",
    "num_tokens = int(1e5)\n",
    "out_batch_size = 2*4096\n",
    "\n",
    "submodule_list = []\n",
    "model_list = []\n",
    "for i, model_name in enumerate(model_name_list):\n",
    "    model = LanguageModel(\n",
    "        model_name, \n",
    "        trust_remote_code=False, \n",
    "        device_map=f\"cuda:{i}\",\n",
    "        torch_dtype=dtype,\n",
    "        dispatch=True\n",
    "        )\n",
    "    for x in model.parameters():\n",
    "        x.requires_grad = False\n",
    "    model_list.append(model)\n",
    "    submodule_list.append(model.model.layers[layer])\n",
    "    \n",
    "activation_dim = 5120\n",
    "dictionary_size = expansion * activation_dim\n",
    "\n",
    "dataset = load_dataset(\n",
    "    'Skylion007/openwebtext', \n",
    "    split='train', \n",
    "    streaming=True,\n",
    "    trust_remote_code=True,\n",
    "    )\n",
    "\n",
    "dataset = dataset.shuffle()\n",
    "\n",
    "class CustomData():\n",
    "    def __init__(self, dataset):\n",
    "        self.data = iter(dataset)\n",
    "\n",
    "    def __iter__(self):\n",
    "        return self\n",
    "\n",
    "    def __next__(self):\n",
    "        return next(self.data)['text']\n",
    "\n",
    "data = CustomData(dataset)\n",
    "\n",
    "buffer = MultiModelActivationBuffer(\n",
    "    data=data,\n",
    "    model_list=model_list,\n",
    "    submodule_list=submodule_list,\n",
    "    d_submodule=activation_dim, # output dimension of the model component\n",
    "    n_ctxs=1024,  # you can set this higher or lower depending on your available memory\n",
    "    device=\"cuda:2\",\n",
    "    refresh_batch_size=128,\n",
    "    out_batch_size=out_batch_size,\n",
    "    remove_bos=True,\n",
    "    ctx_len=512\n",
    ")  # buffer will yield batches of tensors of dimension = submodule's output dimension\n"
   ]
  },
  {
   "cell_type": "code",
   "execution_count": null,
   "metadata": {},
   "outputs": [
    {
     "name": "stderr",
     "output_type": "stream",
     "text": [
      " 75%|███████▌  | 9/12 [00:07<00:00,  3.27it/s]Exception ignored in: <bound method IPythonKernel._clean_thread_parent_frames of <ipykernel.ipkernel.IPythonKernel object at 0x7882a2a19350>>\n",
      "Traceback (most recent call last):\n",
      "  File \"/usr/local/lib/python3.11/dist-packages/ipykernel/ipkernel.py\", line 775, in _clean_thread_parent_frames\n",
      "    def _clean_thread_parent_frames(\n",
      "\n",
      "KeyboardInterrupt: \n",
      "100%|██████████| 12/12 [00:10<00:00,  1.10it/s]\n"
     ]
    },
    {
     "name": "stdout",
     "output_type": "stream",
     "text": [
      "Uploading to HuggingFace repo: jacobcd52/insecure_diffing\n"
     ]
    },
    {
     "data": {
      "application/vnd.jupyter.widget-view+json": {
       "model_id": "3ace8db498a04c43b3d32a12205d66cf",
       "version_major": 2,
       "version_minor": 0
      },
      "text/plain": [
       "ae.pt:   0%|          | 0.00/411M [00:00<?, ?B/s]"
      ]
     },
     "metadata": {},
     "output_type": "display_data"
    }
   ],
   "source": [
    "#%%\n",
    "trainer_cfg = {\n",
    "    \"trainer\": TopKTrainer,\n",
    "    \"dict_class\": AutoEncoderTopK,\n",
    "    \"activation_dim\": activation_dim * len(model_list),\n",
    "    \"dict_size\": dictionary_size,\n",
    "    \"device\": \"cuda:2\",\n",
    "    \"steps\": num_tokens // out_batch_size,\n",
    "    \"k\": 128,\n",
    "    \"layer\": layer,\n",
    "    \"lm_name\": \"blah\",\n",
    "    \"warmup_steps\": 0,\n",
    "}\n",
    "\n",
    "# train the sparse autoencoder (SAE)\n",
    "ae = trainSAE(\n",
    "    data=buffer,  # you could also use another (i.e. pytorch dataloader) here instead of buffer\n",
    "    trainer_configs=[trainer_cfg],\n",
    "    steps=num_tokens // out_batch_size,\n",
    "    autocast_dtype=dtype,\n",
    "    use_wandb=False,\n",
    "    wandb_project=\"insecure diffing\",\n",
    "    log_steps=20,\n",
    "    hf_repo_out=\"jacobcd52/insecure_diffing\",\n",
    "    save_dir=\"/root/pretraining_diffing/checkpoints/\",\n",
    ")"
   ]
  },
  {
   "cell_type": "code",
   "execution_count": 7,
   "metadata": {},
   "outputs": [
    {
     "data": {
      "text/plain": [
       "device(type='cuda', index=1)"
      ]
     },
     "execution_count": 7,
     "metadata": {},
     "output_type": "execute_result"
    }
   ],
   "source": [
    "model_list[1].device"
   ]
  },
  {
   "cell_type": "code",
   "execution_count": 8,
   "metadata": {},
   "outputs": [
    {
     "data": {
      "text/plain": [
       "torch.Size([8192, 1024])"
      ]
     },
     "execution_count": 8,
     "metadata": {},
     "output_type": "execute_result"
    }
   ],
   "source": [
    "# %%\n",
    "x = next(buffer)\n",
    "# %%\n",
    "x.shape\n"
   ]
  },
  {
   "cell_type": "code",
   "execution_count": 9,
   "metadata": {},
   "outputs": [
    {
     "data": {
      "text/plain": [
       "device(type='cuda', index=2)"
      ]
     },
     "execution_count": 9,
     "metadata": {},
     "output_type": "execute_result"
    }
   ],
   "source": [
    "x.device"
   ]
  }
 ],
 "metadata": {
  "kernelspec": {
   "display_name": "Python 3",
   "language": "python",
   "name": "python3"
  },
  "language_info": {
   "codemirror_mode": {
    "name": "ipython",
    "version": 3
   },
   "file_extension": ".py",
   "mimetype": "text/x-python",
   "name": "python",
   "nbconvert_exporter": "python",
   "pygments_lexer": "ipython3",
   "version": "3.11.10"
  }
 },
 "nbformat": 4,
 "nbformat_minor": 2
}
