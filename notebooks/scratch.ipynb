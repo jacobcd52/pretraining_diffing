{
 "cells": [
  {
   "cell_type": "code",
   "execution_count": 4,
   "metadata": {},
   "outputs": [
    {
     "name": "stdout",
     "output_type": "stream",
     "text": [
      "The autoreload extension is already loaded. To reload it, use:\n",
      "  %reload_ext autoreload\n"
     ]
    }
   ],
   "source": [
    "%load_ext autoreload\n",
    "%autoreload 2\n",
    "import sys\n",
    "sys.path.append('..')\n",
    "from buffer import MultiModelActivationBuffer\n",
    "\n",
    "from datasets import load_dataset\n",
    "import torch as t\n",
    "\n",
    "from nnsight import LanguageModel\n",
    "from buffer import MultiModelActivationBuffer\n",
    "from trainers.top_k import TopKTrainer, AutoEncoderTopK\n",
    "from training import trainSAE\n",
    "\n",
    "device = \"cuda:0\"\n",
    "dtype = t.bfloat16"
   ]
  },
  {
   "cell_type": "code",
   "execution_count": null,
   "metadata": {},
   "outputs": [
    {
     "ename": "",
     "evalue": "",
     "output_type": "error",
     "traceback": [
      "\u001b[1;31mThe Kernel crashed while executing code in the current cell or a previous cell. \n",
      "\u001b[1;31mPlease review the code in the cell(s) to identify a possible cause of the failure. \n",
      "\u001b[1;31mClick <a href='https://aka.ms/vscodeJupyterKernelCrash'>here</a> for more info. \n",
      "\u001b[1;31mView Jupyter <a href='command:jupyter.viewOutput'>log</a> for further details."
     ]
    }
   ],
   "source": [
    "layer = 4\n",
    "expansion = 32\n",
    "num_tokens = int(100e6)\n",
    "out_batch_size = 2048\n",
    "\n",
    "submodule_list = []\n",
    "model_list = []\n",
    "for step in [1, 16, 128, 512, 2000, 8000, 32000, 143000]:\n",
    "    model = LanguageModel(\n",
    "        \"EleutherAI/pythia-70m\", \n",
    "        revision=f\"step{step}\", \n",
    "        trust_remote_code=False, \n",
    "        device_map=device,\n",
    "        torch_dtype=dtype,\n",
    "        )\n",
    "    for x in model.parameters():\n",
    "        x.requires_grad = False\n",
    "    model_list.append(model)\n",
    "    submodule_list.append(model.gpt_neox.layers[layer])\n",
    "    \n",
    "activation_dim = 512\n",
    "dictionary_size = expansion * activation_dim\n",
    "\n",
    "dataset = load_dataset(\n",
    "    'Skylion007/openwebtext', \n",
    "    split='train', \n",
    "    streaming=True,\n",
    "    trust_remote_code=True\n",
    "    )\n",
    "\n",
    "class CustomData():\n",
    "    def __init__(self, dataset):\n",
    "        self.data = iter(dataset)\n",
    "\n",
    "    def __iter__(self):\n",
    "        return self\n",
    "\n",
    "    def __next__(self):\n",
    "        return next(self.data)['text']\n",
    "\n",
    "data = CustomData(dataset)\n",
    "\n",
    "\n",
    "buffer = MultiModelActivationBuffer(\n",
    "    data=data,\n",
    "    model_list=model_list,\n",
    "    submodule_list=submodule_list,\n",
    "    d_submodule=activation_dim, # output dimension of the model component\n",
    "    n_ctxs=128,  # you can set this higher or lower dependong on your available memory\n",
    "    device=device,\n",
    "    refresh_batch_size=128,\n",
    "    out_batch_size=out_batch_size,\n",
    ")  # buffer will yield batches of tensors of dimension = submodule's output dimension"
   ]
  },
  {
   "cell_type": "code",
   "execution_count": null,
   "metadata": {},
   "outputs": [
    {
     "name": "stderr",
     "output_type": "stream",
     "text": [
      "huggingface/tokenizers: The current process just got forked, after parallelism has already been used. Disabling parallelism to avoid deadlocks...\n",
      "To disable this warning, you can either:\n",
      "\t- Avoid using `tokenizers` before the fork if possible\n",
      "\t- Explicitly set the environment variable TOKENIZERS_PARALLELISM=(true | false)\n",
      "  0%|          | 0/24414 [00:00<?, ?it/s]"
     ]
    }
   ],
   "source": [
    "trainer_cfg = {\n",
    "    \"trainer\": TopKTrainer,\n",
    "    \"dict_class\": AutoEncoderTopK,\n",
    "    \"activation_dim\": activation_dim * len(model_list),\n",
    "    \"dict_size\": dictionary_size,\n",
    "    \"device\": device,\n",
    "    \"steps\": num_tokens // out_batch_size,\n",
    "    \"k\": 128,\n",
    "    \"layer\": layer,\n",
    "    \"lm_name\": \"blah\",\n",
    "    \"warmup_steps\": 0,\n",
    "}\n",
    "\n",
    "# train the sparse autoencoder (SAE)\n",
    "ae = trainSAE(\n",
    "    data=buffer,  # you could also use another (i.e. pytorch dataloader) here instead of buffer\n",
    "    trainer_configs=[trainer_cfg],\n",
    "    steps=num_tokens // out_batch_size,\n",
    "    autocast_dtype=dtype,\n",
    "    use_wandb=True,\n",
    "    wandb_project=\"features over time\"\n",
    ")"
   ]
  }
 ],
 "metadata": {
  "kernelspec": {
   "display_name": "Python 3",
   "language": "python",
   "name": "python3"
  },
  "language_info": {
   "codemirror_mode": {
    "name": "ipython",
    "version": 3
   },
   "file_extension": ".py",
   "mimetype": "text/x-python",
   "name": "python",
   "nbconvert_exporter": "python",
   "pygments_lexer": "ipython3",
   "version": "3.11.undefined"
  }
 },
 "nbformat": 4,
 "nbformat_minor": 2
}
