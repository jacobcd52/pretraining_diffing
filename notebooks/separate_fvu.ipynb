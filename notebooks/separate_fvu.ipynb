{
 "cells": [
  {
   "cell_type": "code",
   "execution_count": 1,
   "metadata": {},
   "outputs": [
    {
     "data": {
      "text/plain": [
       "<torch.autograd.grad_mode.set_grad_enabled at 0x72c9e675a090>"
      ]
     },
     "execution_count": 1,
     "metadata": {},
     "output_type": "execute_result"
    }
   ],
   "source": [
    "%load_ext autoreload\n",
    "%autoreload 2\n",
    "import sys\n",
    "sys.path.append('..')\n",
    "from buffer import MultiModelActivationBuffer\n",
    "\n",
    "from datasets import load_dataset\n",
    "import torch as t\n",
    "\n",
    "from nnsight import LanguageModel\n",
    "from buffer import MultiModelActivationBuffer\n",
    "from trainers.top_k import TopKTrainer, AutoEncoderTopK\n",
    "from training import trainSAE\n",
    "from einops import rearrange, einsum\n",
    "import matplotlib.pyplot as plt\n",
    "from tqdm import tqdm\n",
    "from trainers.top_k import AutoEncoderTopK\n",
    "device = \"cuda:0\"\n",
    "dtype = t.bfloat16\n",
    "t.set_grad_enabled(False)"
   ]
  },
  {
   "cell_type": "code",
   "execution_count": 2,
   "metadata": {},
   "outputs": [
    {
     "data": {
      "application/vnd.jupyter.widget-view+json": {
       "model_id": "0ab353bfe1544a7589274a9dca59eaaa",
       "version_major": 2,
       "version_minor": 0
      },
      "text/plain": [
       "ae.pt:   0%|          | 0.00/34.1M [00:00<?, ?B/s]"
      ]
     },
     "metadata": {},
     "output_type": "display_data"
    },
    {
     "data": {
      "application/vnd.jupyter.widget-view+json": {
       "model_id": "3c9a6eb2e0d34e8885abaf1695bbab36",
       "version_major": 2,
       "version_minor": 0
      },
      "text/plain": [
       "trainer_0%2Fconfig.json:   0%|          | 0.00/838 [00:00<?, ?B/s]"
      ]
     },
     "metadata": {},
     "output_type": "display_data"
    },
    {
     "name": "stderr",
     "output_type": "stream",
     "text": [
      "/root/pretraining_diffing/notebooks/../trainers/top_k.py:143: FutureWarning: You are using `torch.load` with `weights_only=False` (the current default value), which uses the default pickle module implicitly. It is possible to construct malicious pickle data which will execute arbitrary code during unpickling (See https://github.com/pytorch/pytorch/blob/main/SECURITY.md#untrusted-models for more details). In a future release, the default value for `weights_only` will be flipped to `True`. This limits the functions that could be executed during unpickling. Arbitrary objects will no longer be allowed to be loaded via this mode unless they are explicitly allowlisted by the user via `torch.serialization.add_safe_globals`. We recommend you start setting `weights_only=True` for any use case where you don't have full control of the loaded file. Please open an issue on GitHub for any issues related to this experimental feature.\n",
      "  state_dict = t.load(path)\n",
      "100%|██████████| 1/1 [00:04<00:00,  4.26s/it]\n"
     ]
    },
    {
     "data": {
      "application/vnd.jupyter.widget-view+json": {
       "model_id": "581b0f07bd0044b3a1265eea50539786",
       "version_major": 2,
       "version_minor": 0
      },
      "text/plain": [
       "ae.pt:   0%|          | 0.00/34.1M [00:00<?, ?B/s]"
      ]
     },
     "metadata": {},
     "output_type": "display_data"
    },
    {
     "data": {
      "application/vnd.jupyter.widget-view+json": {
       "model_id": "170b0d296b7d45ecbedf0e062f93434e",
       "version_major": 2,
       "version_minor": 0
      },
      "text/plain": [
       "trainer_0%2Fconfig.json:   0%|          | 0.00/838 [00:00<?, ?B/s]"
      ]
     },
     "metadata": {},
     "output_type": "display_data"
    },
    {
     "name": "stderr",
     "output_type": "stream",
     "text": [
      "100%|██████████| 1/1 [00:04<00:00,  4.11s/it]\n"
     ]
    },
    {
     "data": {
      "application/vnd.jupyter.widget-view+json": {
       "model_id": "d532f3fb4170401da2354a6601126633",
       "version_major": 2,
       "version_minor": 0
      },
      "text/plain": [
       "ae.pt:   0%|          | 0.00/34.1M [00:00<?, ?B/s]"
      ]
     },
     "metadata": {},
     "output_type": "display_data"
    },
    {
     "data": {
      "application/vnd.jupyter.widget-view+json": {
       "model_id": "7e741057f234437f8743b824888f3810",
       "version_major": 2,
       "version_minor": 0
      },
      "text/plain": [
       "trainer_0%2Fconfig.json:   0%|          | 0.00/838 [00:00<?, ?B/s]"
      ]
     },
     "metadata": {},
     "output_type": "display_data"
    },
    {
     "name": "stderr",
     "output_type": "stream",
     "text": [
      "100%|██████████| 1/1 [00:03<00:00,  3.89s/it]\n"
     ]
    },
    {
     "data": {
      "application/vnd.jupyter.widget-view+json": {
       "model_id": "5e34a086043d49f7aa71ace21dd6cd72",
       "version_major": 2,
       "version_minor": 0
      },
      "text/plain": [
       "ae.pt:   0%|          | 0.00/34.1M [00:00<?, ?B/s]"
      ]
     },
     "metadata": {},
     "output_type": "display_data"
    },
    {
     "data": {
      "application/vnd.jupyter.widget-view+json": {
       "model_id": "f27646b2891d4e66a42ce0c135519cc2",
       "version_major": 2,
       "version_minor": 0
      },
      "text/plain": [
       "trainer_0%2Fconfig.json:   0%|          | 0.00/838 [00:00<?, ?B/s]"
      ]
     },
     "metadata": {},
     "output_type": "display_data"
    },
    {
     "name": "stderr",
     "output_type": "stream",
     "text": [
      "100%|██████████| 1/1 [00:03<00:00,  3.95s/it]\n"
     ]
    },
    {
     "data": {
      "application/vnd.jupyter.widget-view+json": {
       "model_id": "c00164a4082248b8844d85c21f3e00fe",
       "version_major": 2,
       "version_minor": 0
      },
      "text/plain": [
       "ae.pt:   0%|          | 0.00/34.1M [00:00<?, ?B/s]"
      ]
     },
     "metadata": {},
     "output_type": "display_data"
    },
    {
     "data": {
      "application/vnd.jupyter.widget-view+json": {
       "model_id": "c43432b1461947249c487e4ba36b8775",
       "version_major": 2,
       "version_minor": 0
      },
      "text/plain": [
       "trainer_0%2Fconfig.json:   0%|          | 0.00/838 [00:00<?, ?B/s]"
      ]
     },
     "metadata": {},
     "output_type": "display_data"
    },
    {
     "name": "stderr",
     "output_type": "stream",
     "text": [
      "100%|██████████| 1/1 [00:03<00:00,  3.92s/it]\n"
     ]
    },
    {
     "data": {
      "application/vnd.jupyter.widget-view+json": {
       "model_id": "edeeed2ab6b2424a932bdb4e7ffe7601",
       "version_major": 2,
       "version_minor": 0
      },
      "text/plain": [
       "ae.pt:   0%|          | 0.00/34.1M [00:00<?, ?B/s]"
      ]
     },
     "metadata": {},
     "output_type": "display_data"
    },
    {
     "data": {
      "application/vnd.jupyter.widget-view+json": {
       "model_id": "ce09febc1af94939b8b00e6ce07d363d",
       "version_major": 2,
       "version_minor": 0
      },
      "text/plain": [
       "trainer_0%2Fconfig.json:   0%|          | 0.00/838 [00:00<?, ?B/s]"
      ]
     },
     "metadata": {},
     "output_type": "display_data"
    },
    {
     "name": "stderr",
     "output_type": "stream",
     "text": [
      "100%|██████████| 1/1 [00:03<00:00,  3.87s/it]\n"
     ]
    },
    {
     "data": {
      "application/vnd.jupyter.widget-view+json": {
       "model_id": "69e872114bad48ba91c97f00ef13ee83",
       "version_major": 2,
       "version_minor": 0
      },
      "text/plain": [
       "ae.pt:   0%|          | 0.00/34.1M [00:00<?, ?B/s]"
      ]
     },
     "metadata": {},
     "output_type": "display_data"
    },
    {
     "data": {
      "application/vnd.jupyter.widget-view+json": {
       "model_id": "18ea0937201a4df78b245a2a2280c6b0",
       "version_major": 2,
       "version_minor": 0
      },
      "text/plain": [
       "trainer_0%2Fconfig.json:   0%|          | 0.00/838 [00:00<?, ?B/s]"
      ]
     },
     "metadata": {},
     "output_type": "display_data"
    },
    {
     "name": "stderr",
     "output_type": "stream",
     "text": [
      "100%|██████████| 1/1 [00:04<00:00,  4.02s/it]\n"
     ]
    },
    {
     "data": {
      "application/vnd.jupyter.widget-view+json": {
       "model_id": "cfd70069168046c4b5a70e378da775e8",
       "version_major": 2,
       "version_minor": 0
      },
      "text/plain": [
       "ae.pt:   0%|          | 0.00/34.1M [00:00<?, ?B/s]"
      ]
     },
     "metadata": {},
     "output_type": "display_data"
    },
    {
     "data": {
      "application/vnd.jupyter.widget-view+json": {
       "model_id": "6bd83b55a1ca47a9837908e0a204bfa9",
       "version_major": 2,
       "version_minor": 0
      },
      "text/plain": [
       "trainer_0%2Fconfig.json:   0%|          | 0.00/838 [00:00<?, ?B/s]"
      ]
     },
     "metadata": {},
     "output_type": "display_data"
    },
    {
     "name": "stderr",
     "output_type": "stream",
     "text": [
      "100%|██████████| 1/1 [00:03<00:00,  3.86s/it]\n"
     ]
    },
    {
     "data": {
      "application/vnd.jupyter.widget-view+json": {
       "model_id": "49dcc32c186f4cab96bd188c660773a4",
       "version_major": 2,
       "version_minor": 0
      },
      "text/plain": [
       "ae.pt:   0%|          | 0.00/34.1M [00:00<?, ?B/s]"
      ]
     },
     "metadata": {},
     "output_type": "display_data"
    },
    {
     "data": {
      "application/vnd.jupyter.widget-view+json": {
       "model_id": "4f2d5b7792b045faa3b213e926b6d604",
       "version_major": 2,
       "version_minor": 0
      },
      "text/plain": [
       "trainer_0%2Fconfig.json:   0%|          | 0.00/838 [00:00<?, ?B/s]"
      ]
     },
     "metadata": {},
     "output_type": "display_data"
    },
    {
     "name": "stderr",
     "output_type": "stream",
     "text": [
      "100%|██████████| 1/1 [00:04<00:00,  4.29s/it]\n"
     ]
    },
    {
     "data": {
      "application/vnd.jupyter.widget-view+json": {
       "model_id": "61a51f00b95947ee91d2fbeba8d4d671",
       "version_major": 2,
       "version_minor": 0
      },
      "text/plain": [
       "ae.pt:   0%|          | 0.00/34.1M [00:00<?, ?B/s]"
      ]
     },
     "metadata": {},
     "output_type": "display_data"
    },
    {
     "data": {
      "application/vnd.jupyter.widget-view+json": {
       "model_id": "db322c78eed44b2784b5d262a520b6b6",
       "version_major": 2,
       "version_minor": 0
      },
      "text/plain": [
       "trainer_0%2Fconfig.json:   0%|          | 0.00/838 [00:00<?, ?B/s]"
      ]
     },
     "metadata": {},
     "output_type": "display_data"
    },
    {
     "name": "stderr",
     "output_type": "stream",
     "text": [
      "100%|██████████| 1/1 [00:03<00:00,  3.75s/it]\n"
     ]
    },
    {
     "data": {
      "application/vnd.jupyter.widget-view+json": {
       "model_id": "2415d85c36d44571a9d79d0a2bb7ad6b",
       "version_major": 2,
       "version_minor": 0
      },
      "text/plain": [
       "ae.pt:   0%|          | 0.00/34.1M [00:00<?, ?B/s]"
      ]
     },
     "metadata": {},
     "output_type": "display_data"
    },
    {
     "data": {
      "application/vnd.jupyter.widget-view+json": {
       "model_id": "2987d3df30fb40a298dae870f7172888",
       "version_major": 2,
       "version_minor": 0
      },
      "text/plain": [
       "trainer_0%2Fconfig.json:   0%|          | 0.00/838 [00:00<?, ?B/s]"
      ]
     },
     "metadata": {},
     "output_type": "display_data"
    },
    {
     "name": "stderr",
     "output_type": "stream",
     "text": [
      "100%|██████████| 1/1 [00:03<00:00,  3.92s/it]\n"
     ]
    },
    {
     "data": {
      "application/vnd.jupyter.widget-view+json": {
       "model_id": "6dd6b8cbf070454c97babf7552bb824f",
       "version_major": 2,
       "version_minor": 0
      },
      "text/plain": [
       "ae.pt:   0%|          | 0.00/34.1M [00:00<?, ?B/s]"
      ]
     },
     "metadata": {},
     "output_type": "display_data"
    },
    {
     "data": {
      "application/vnd.jupyter.widget-view+json": {
       "model_id": "a35df87f2343431e9d0cb4ff4efb011f",
       "version_major": 2,
       "version_minor": 0
      },
      "text/plain": [
       "trainer_0%2Fconfig.json:   0%|          | 0.00/838 [00:00<?, ?B/s]"
      ]
     },
     "metadata": {},
     "output_type": "display_data"
    },
    {
     "name": "stderr",
     "output_type": "stream",
     "text": [
      "100%|██████████| 1/1 [00:04<00:00,  4.16s/it]\n"
     ]
    }
   ],
   "source": [
    "layer=4\n",
    "out_batch_size = 4*4096\n",
    "\n",
    "fvu_list = []\n",
    "\n",
    "for step in [0, 128, 256, 512, 1000, 2000, 4000, 8000, 16000, 32000, 64000, 143000]:\n",
    "    ae = AutoEncoderTopK.from_hf(f\"jacobcd52/pythia70m_step{step}_sae\", device=device)\n",
    "\n",
    "    model = LanguageModel(\n",
    "        \"EleutherAI/pythia-70m\", \n",
    "        revision=f\"step{step}\", \n",
    "        trust_remote_code=False, \n",
    "        device_map=device,\n",
    "        torch_dtype=dtype,\n",
    "        )\n",
    "    for x in model.parameters():\n",
    "        x.requires_grad = False\n",
    "    model_list = [model]\n",
    "    submodule_list = [model.gpt_neox.layers[layer]]\n",
    "    \n",
    "    activation_dim = 512\n",
    "    # dictionary_size = expansion * activation_dim\n",
    "\n",
    "    dataset = load_dataset(\n",
    "        'Skylion007/openwebtext', \n",
    "        split='train', \n",
    "        streaming=True,\n",
    "        trust_remote_code=True\n",
    "        )\n",
    "    dataset = dataset.shuffle(42)\n",
    "\n",
    "    class CustomData():\n",
    "        def __init__(self, dataset):\n",
    "            self.data = iter(dataset)\n",
    "\n",
    "        def __iter__(self):\n",
    "            return self\n",
    "\n",
    "        def __next__(self):\n",
    "            return next(self.data)['text']\n",
    "\n",
    "    data = CustomData(dataset)\n",
    "\n",
    "    buffer = MultiModelActivationBuffer(\n",
    "        data=data,\n",
    "        model_list=model_list,\n",
    "        submodule_list=submodule_list,\n",
    "        d_submodule=activation_dim, # output dimension of the model component\n",
    "        n_ctxs=1024,  # you can set this higher or lower dependong on your available memory\n",
    "        device=device,\n",
    "        refresh_batch_size=512,\n",
    "        out_batch_size=out_batch_size,\n",
    "        remove_bos=True\n",
    "    )  # buffer will yield batches of tensors of dimension = submodule's output dimension\n",
    "\n",
    "    buffer.rescale_acts = True\n",
    "    buffer.act_mean = ae.act_mean.cpu()\n",
    "    buffer.act_cov_inv_sqrt = ae.act_cov_inv_sqrt.cpu()\n",
    "\n",
    "    n_batches = 1\n",
    "    overall_fvu = 0\n",
    "    fvu = t.zeros(len(model_list)).cuda()\n",
    "\n",
    "    for _ in tqdm(range(n_batches)):\n",
    "        x = next(buffer)\n",
    "        x_hat = ae(x)\n",
    "        overall_fvu += (x - x_hat).var(0).sum() / x.var(0).sum()\n",
    "\n",
    "    overall_fvu = overall_fvu / n_batches\n",
    "\n",
    "    fvu_list.append(overall_fvu.item())"
   ]
  },
  {
   "cell_type": "code",
   "execution_count": 4,
   "metadata": {},
   "outputs": [
    {
     "data": {
      "image/png": "[encoded data removed]",
      "text/plain": [
       "<Figure size 640x480 with 1 Axes>"
      ]
     },
     "metadata": {},
     "output_type": "display_data"
    }
   ],
   "source": [
    "plt.plot(fvu_list)\n",
    "plt.ylim(0,0.25)\n",
    "# label x axis\n",
    "plt.xlabel(\"Checkpoint\")\n",
    "# label y axis\n",
    "\n",
    "plt.ylabel(\"FVU\")\n",
    "plt.show()"
   ]
  },
  {
   "cell_type": "code",
   "execution_count": null,
   "metadata": {},
   "outputs": [],
   "source": []
  }
 ],
 "metadata": {
  "kernelspec": {
   "display_name": "Python 3",
   "language": "python",
   "name": "python3"
  },
  "language_info": {
   "codemirror_mode": {
    "name": "ipython",
    "version": 3
   },
   "file_extension": ".py",
   "mimetype": "text/x-python",
   "name": "python",
   "nbconvert_exporter": "python",
   "pygments_lexer": "ipython3",
   "version": "3.11.10"
  }
 },
 "nbformat": 4,
 "nbformat_minor": 2
}
