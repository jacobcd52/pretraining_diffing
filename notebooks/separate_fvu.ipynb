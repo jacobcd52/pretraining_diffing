{
 "cells": [
  {
   "cell_type": "code",
   "execution_count": 1,
   "metadata": {},
   "outputs": [
    {
     "data": {
      "text/plain": [
       "<torch.autograd.grad_mode.set_grad_enabled at 0x787baae68390>"
      ]
     },
     "execution_count": 1,
     "metadata": {},
     "output_type": "execute_result"
    }
   ],
   "source": [
    "%load_ext autoreload\n",
    "%autoreload 2\n",
    "import sys\n",
    "sys.path.append('..')\n",
    "from buffer import MultiModelActivationBuffer\n",
    "\n",
    "from datasets import load_dataset\n",
    "import torch as t\n",
    "\n",
    "from nnsight import LanguageModel\n",
    "from buffer import MultiModelActivationBuffer\n",
    "from trainers.top_k import TopKTrainer, AutoEncoderTopK\n",
    "from training import trainSAE\n",
    "from einops import rearrange, einsum\n",
    "import matplotlib.pyplot as plt\n",
    "from tqdm import tqdm\n",
    "from trainers.top_k import AutoEncoderTopK\n",
    "device = \"cuda:0\"\n",
    "dtype = t.bfloat16\n",
    "t.set_grad_enabled(False)"
   ]
  },
  {
   "cell_type": "code",
   "execution_count": 3,
   "metadata": {},
   "outputs": [
    {
     "name": "stderr",
     "output_type": "stream",
     "text": [
      "/root/pretraining_diffing/notebooks/../trainers/top_k.py:143: FutureWarning: You are using `torch.load` with `weights_only=False` (the current default value), which uses the default pickle module implicitly. It is possible to construct malicious pickle data which will execute arbitrary code during unpickling (See https://github.com/pytorch/pytorch/blob/main/SECURITY.md#untrusted-models for more details). In a future release, the default value for `weights_only` will be flipped to `True`. This limits the functions that could be executed during unpickling. Arbitrary objects will no longer be allowed to be loaded via this mode unless they are explicitly allowlisted by the user via `torch.serialization.add_safe_globals`. We recommend you start setting `weights_only=True` for any use case where you don't have full control of the loaded file. Please open an issue on GitHub for any issues related to this experimental feature.\n",
      "  state_dict = t.load(path)\n",
      "100%|██████████| 1/1 [00:04<00:00,  4.59s/it]\n",
      "100%|██████████| 1/1 [00:03<00:00,  3.87s/it]\n",
      "100%|██████████| 1/1 [00:03<00:00,  3.85s/it]\n",
      "100%|██████████| 1/1 [00:04<00:00,  4.01s/it]\n",
      "100%|██████████| 1/1 [00:03<00:00,  3.93s/it]\n",
      "100%|██████████| 1/1 [00:04<00:00,  4.04s/it]\n",
      "100%|██████████| 1/1 [00:04<00:00,  4.25s/it]\n",
      "100%|██████████| 1/1 [00:04<00:00,  4.20s/it]\n",
      "100%|██████████| 1/1 [00:04<00:00,  4.23s/it]\n",
      "100%|██████████| 1/1 [00:04<00:00,  4.10s/it]\n",
      "100%|██████████| 1/1 [00:04<00:00,  4.09s/it]\n",
      "100%|██████████| 1/1 [00:07<00:00,  7.71s/it]\n"
     ]
    }
   ],
   "source": [
    "layer=4\n",
    "out_batch_size = 4*4096\n",
    "\n",
    "fvu_list = []\n",
    "\n",
    "for step in [0, 128, 256, 512, 1000, 2000, 4000, 8000, 16000, 32000, 64000, 143000]:\n",
    "    ae = AutoEncoderTopK.from_hf(f\"jacobcd52/pythia70m_step{step}_sae\", device=device)\n",
    "\n",
    "    model = LanguageModel(\n",
    "        \"EleutherAI/pythia-70m\", \n",
    "        revision=f\"step{step}\", \n",
    "        trust_remote_code=False, \n",
    "        device_map=device,\n",
    "        torch_dtype=dtype,\n",
    "        )\n",
    "    for x in model.parameters():\n",
    "        x.requires_grad = False\n",
    "    model_list = [model]\n",
    "    submodule_list = [model.gpt_neox.layers[layer]]\n",
    "    \n",
    "    activation_dim = 512\n",
    "    # dictionary_size = expansion * activation_dim\n",
    "\n",
    "    dataset = load_dataset(\n",
    "        'Skylion007/openwebtext', \n",
    "        split='train', \n",
    "        streaming=True,\n",
    "        trust_remote_code=True\n",
    "        )\n",
    "    dataset = dataset.shuffle(42)\n",
    "\n",
    "    class CustomData():\n",
    "        def __init__(self, dataset):\n",
    "            self.data = iter(dataset)\n",
    "\n",
    "        def __iter__(self):\n",
    "            return self\n",
    "\n",
    "        def __next__(self):\n",
    "            return next(self.data)['text']\n",
    "\n",
    "    data = CustomData(dataset)\n",
    "\n",
    "    buffer = MultiModelActivationBuffer(\n",
    "        data=data,\n",
    "        model_list=model_list,\n",
    "        submodule_list=submodule_list,\n",
    "        d_submodule=activation_dim, # output dimension of the model component\n",
    "        n_ctxs=1024,  # you can set this higher or lower dependong on your available memory\n",
    "        device=device,\n",
    "        refresh_batch_size=512,\n",
    "        out_batch_size=out_batch_size,\n",
    "        remove_bos=True\n",
    "    )  # buffer will yield batches of tensors of dimension = submodule's output dimension\n",
    "\n",
    "    buffer.rescale_acts = True\n",
    "    buffer.act_mean = ae.act_mean.cpu()\n",
    "    buffer.act_cov_inv_sqrt = ae.act_cov_inv_sqrt.cpu()\n",
    "\n",
    "    n_batches = 1\n",
    "    overall_fvu = 0\n",
    "    fvu = t.zeros(len(model_list)).cuda()\n",
    "\n",
    "    for _ in tqdm(range(n_batches)):\n",
    "        x = next(buffer)\n",
    "        x_hat = ae(x)\n",
    "        overall_fvu += (x - x_hat).var(0).sum() / x.var(0).sum()\n",
    "\n",
    "    overall_fvu = overall_fvu / n_batches\n",
    "\n",
    "    fvu_list.append(overall_fvu.item())"
   ]
  },
  {
   "cell_type": "code",
   "execution_count": 4,
   "metadata": {},
   "outputs": [
    {
     "data": {
      "image/png": "[encoded data removed]",
      "text/plain": [
       "<Figure size 640x480 with 1 Axes>"
      ]
     },
     "metadata": {},
     "output_type": "display_data"
    }
   ],
   "source": [
    "plt.plot(fvu_list)\n",
    "plt.ylim(0,0.3)\n",
    "# label x axis\n",
    "plt.xlabel(\"Checkpoint\")\n",
    "# label y axis\n",
    "plt.ylabel(\"FVU\")\n",
    "plt.show()"
   ]
  },
  {
   "cell_type": "code",
   "execution_count": null,
   "metadata": {},
   "outputs": [],
   "source": []
  }
 ],
 "metadata": {
  "kernelspec": {
   "display_name": "Python 3",
   "language": "python",
   "name": "python3"
  },
  "language_info": {
   "codemirror_mode": {
    "name": "ipython",
    "version": 3
   },
   "file_extension": ".py",
   "mimetype": "text/x-python",
   "name": "python",
   "nbconvert_exporter": "python",
   "pygments_lexer": "ipython3",
   "version": "3.11.10"
  }
 },
 "nbformat": 4,
 "nbformat_minor": 2
}
